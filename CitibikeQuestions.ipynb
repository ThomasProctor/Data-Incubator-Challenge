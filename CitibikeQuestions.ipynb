{
 "cells": [
  {
   "cell_type": "code",
   "execution_count": 1,
   "metadata": {
    "collapsed": true
   },
   "outputs": [],
   "source": [
    "import re\n",
    "import urllib2\n",
    "import pandas as pd\n",
    "import StringIO\n",
    "import zipfile\n",
    "import requests\n",
    "from __future__ import division\n",
    "import numpy as np"
   ]
  },
  {
   "cell_type": "code",
   "execution_count": 2,
   "metadata": {
    "collapsed": true
   },
   "outputs": [],
   "source": [
    "path = 'https://s3.amazonaws.com/tripdata/'\n",
    "response = urllib2.urlopen(path).read()"
   ]
  },
  {
   "cell_type": "code",
   "execution_count": 3,
   "metadata": {
    "collapsed": true
   },
   "outputs": [],
   "source": [
    "regex = re.compile('2015\\d{1,2}-citibike-tripdata.zip')"
   ]
  },
  {
   "cell_type": "code",
   "execution_count": 4,
   "metadata": {
    "collapsed": false
   },
   "outputs": [],
   "source": [
    "files = regex.findall(response)"
   ]
  },
  {
   "cell_type": "code",
   "execution_count": 5,
   "metadata": {
    "collapsed": true
   },
   "outputs": [],
   "source": [
    "def zip_to_csv(zip_name):\n",
    "    base_name = zip_name[:zip_name.find('.zip')]\n",
    "    return base_name + '.csv'"
   ]
  },
  {
   "cell_type": "code",
   "execution_count": 6,
   "metadata": {
    "collapsed": true
   },
   "outputs": [],
   "source": [
    "csv_names = [zip_to_csv(name) for name in files]"
   ]
  },
  {
   "cell_type": "code",
   "execution_count": 7,
   "metadata": {
    "collapsed": true
   },
   "outputs": [],
   "source": [
    "def zipped_online_csv_read(url, csv_filename, **kwargs):\n",
    "    s = requests.get(url).content\n",
    "    z = zipfile.ZipFile(StringIO.StringIO(s))\n",
    "    return pd.read_csv(z.open(csv_filename), **kwargs)"
   ]
  },
  {
   "cell_type": "code",
   "execution_count": 8,
   "metadata": {
    "collapsed": true
   },
   "outputs": [],
   "source": [
    "columns = (\"tripduration, start station id, end station id, \"\n",
    "           \"start station latitude, start station longitude, \"\n",
    "           \"end station latitude, end station longitude, \"\n",
    "           \"bikeid, starttime, usertype\").split(', ')\n",
    "dates = ['starttime']"
   ]
  },
  {
   "cell_type": "code",
   "execution_count": 9,
   "metadata": {
    "collapsed": true
   },
   "outputs": [],
   "source": [
    "kwargs = {'usecols':columns, 'parse_dates':dates,\n",
    "          'infer_datetime_format':True}"
   ]
  },
  {
   "cell_type": "code",
   "execution_count": 10,
   "metadata": {
    "collapsed": false
   },
   "outputs": [
    {
     "name": "stdout",
     "output_type": "stream",
     "text": [
      "201501-citibike-tripdata.csv\n",
      "(285552, 10)\n",
      "201502-citibike-tripdata.csv\n",
      "(482482, 10)\n",
      "201503-citibike-tripdata.csv\n",
      "(824308, 10)\n"
     ]
    }
   ],
   "source": [
    "df = pd.DataFrame(columns=columns)\n",
    "counter = 0\n",
    "for i in zip(files, csv_names)[:3]:\n",
    "    file_path = path + i[0]\n",
    "    df = df.append(zipped_online_csv_read(file_path, i[1],\n",
    "                                          **kwargs))\n",
    "    print(i[1])\n",
    "    print(df.shape)\n",
    "    counter += 1\n",
    "    "
   ]
  },
  {
   "cell_type": "markdown",
   "metadata": {},
   "source": [
    "### What is the median trip duration, in seconds? "
   ]
  },
  {
   "cell_type": "code",
   "execution_count": 11,
   "metadata": {
    "collapsed": false
   },
   "outputs": [
    {
     "name": "stdout",
     "output_type": "stream",
     "text": [
      "What is the median trip duration, in seconds?\n",
      "518\n"
     ]
    }
   ],
   "source": [
    "question = \"What is the median trip duration, in seconds?\\n\"\n",
    "print(question + str(int(df['tripduration'].median())))"
   ]
  },
  {
   "cell_type": "markdown",
   "metadata": {},
   "source": [
    "### What fraction of rides start and end at the same station? "
   ]
  },
  {
   "cell_type": "code",
   "execution_count": 12,
   "metadata": {
    "collapsed": false
   },
   "outputs": [
    {
     "name": "stdout",
     "output_type": "stream",
     "text": [
      "What fraction of rides start and end at the same station?\n",
      "0.0158508712763\n"
     ]
    }
   ],
   "source": [
    "question = (\"What fraction of rides start and end \"\n",
    "            \"at the same station?\\n\")\n",
    "same = df[df['start station id']\n",
    "          == df['end station id']].shape[0]\n",
    "print(question + str(same / df.shape[0]))"
   ]
  },
  {
   "cell_type": "markdown",
   "metadata": {},
   "source": [
    "### We say a bike has visited a station if it has a ride that either started or ended at that station. Some bikes have visited many stations; others just a few. What is the standard deviation of the number of stations visited by a bike? "
   ]
  },
  {
   "cell_type": "code",
   "execution_count": 13,
   "metadata": {
    "collapsed": false
   },
   "outputs": [
    {
     "name": "stdout",
     "output_type": "stream",
     "text": [
      "We say a bike has visited a station if it has a ride that either started or ended at that station. Some bikes have visited many stations; others just a few. What is the standard deviation of the number of stations visited by a bike?\n",
      "38.932999088\n"
     ]
    }
   ],
   "source": [
    "question = (\"We say a bike has visited a station if it has \"\n",
    "            \"a ride that either started or ended at that \"\n",
    "            \"station. Some bikes have visited many stations; \"\n",
    "            \"others just a few. What is the standard deviation \"\n",
    "            \"of the number of stations visited by a bike?\\n\")\n",
    "def stations_visited(grp_df):\n",
    "    started = set(grp_df['start station id'].dropna().unique())\n",
    "    ended = set(grp_df['end station id'].dropna().unique())\n",
    "    return len(started | ended)\n",
    "group = df.groupby('bikeid')\n",
    "bike_stations_visited = group.apply(stations_visited)\n",
    "print(question + str(bike_stations_visited.std()))"
   ]
  },
  {
   "cell_type": "markdown",
   "metadata": {},
   "source": [
    "### What is the average length, in kilometers, of a trip? Assume trips follow great circle arcs from the start station to the end station. Ignore trips that start and end at the same station, as well as those with obviously wrong data. "
   ]
  },
  {
   "cell_type": "code",
   "execution_count": 14,
   "metadata": {
    "collapsed": false
   },
   "outputs": [
    {
     "name": "stdout",
     "output_type": "stream",
     "text": [
      "What is the average length, in kilometers, of a trip? Assume trips follow great circle arcs from the start station to the end station. Ignore trips that start and end at the same station, as well as those with obviously wrong data.\n",
      "1.51774454976\n"
     ]
    }
   ],
   "source": [
    "question = (\"What is the average length, in kilometers, of a \"\n",
    "            \"trip? Assume trips follow great circle arcs from \"\n",
    "            \"the start station to the end station. Ignore \"\n",
    "            \"trips that start and end at the same station, as \"\n",
    "            \"well as those with obviously wrong data.\\n\")\n",
    "\n",
    "def great_circle_dist(lat1, lon1, lat2, lon2):\n",
    "    radius = 6371 #earth's radius in km\n",
    "    degree_radian_ratio = np.pi / 180\n",
    "    phi1 = degree_radian_ratio * lat1\n",
    "    phi2 = degree_radian_ratio * lat2\n",
    "    dphi = phi2 - phi1\n",
    "    dtheta = degree_radian_ratio * (lon2 - lon1)\n",
    "    a = (np.sin(dphi / 2)**2\n",
    "         + np.cos(phi1) * np.cos(phi2) * np.sin(dtheta / 2)**2)\n",
    "    c = 2 * np.arctan2(np.sqrt(a), np.sqrt(1 - a))\n",
    "    return radius * c\n",
    "\n",
    "def mean_dist(df):\n",
    "    good_df = df[df['start station id']\n",
    "                 != df['end station id']]\n",
    "    dists = great_circle_dist(good_df['start station latitude'],\n",
    "                              good_df['start station longitude'],\n",
    "                              good_df['end station latitude'],\n",
    "                              good_df['end station longitude'])\n",
    "    return dists.mean()\n",
    "    \n",
    "\n",
    "print(question + str(mean_dist(df)))\n",
    "    \n",
    "    "
   ]
  },
  {
   "cell_type": "markdown",
   "metadata": {},
   "source": [
    "### Calculate the average duration of trips for each month in the year. (Consider a trip to occur in the month in which it starts.) What is the difference, in seconds, between the longest and shortest average durations? "
   ]
  },
  {
   "cell_type": "code",
   "execution_count": 15,
   "metadata": {
    "collapsed": false
   },
   "outputs": [
    {
     "name": "stdout",
     "output_type": "stream",
     "text": [
      "Calculate the average duration of trips for each month in the year. (Consider a trip to occur in the month in which it starts.) What is the difference, in seconds, between the longest and shortest average durations?\n",
      "84.9334655791\n"
     ]
    }
   ],
   "source": [
    "question = (\"Calculate the average duration of trips for \"\n",
    "            \"each month in the year. (Consider a trip to \"\n",
    "            \"occur in the month in which it starts.) What \"\n",
    "            \"is the difference, in seconds, between the \"\n",
    "            \"longest and shortest average durations?\\n\")\n",
    "\n",
    "group = df.groupby(df['starttime'].dt.month)\n",
    "means = group['tripduration'].mean()\n",
    "diff = means.max() - means.min()\n",
    "print(question + str(diff))"
   ]
  },
  {
   "cell_type": "markdown",
   "metadata": {},
   "source": [
    "### Let us define the hourly usage fraction of a station to be the fraction of all rides starting at that station that leave during a specific hour. A station has surprising usage patterns if it has an hourly usage fraction for an hour significantly different from the corresponding hourly usage fraction of the system as a whole. What is the largest ratio of station hourly usage fraction to system hourly usage fraction (hence corresponding to the most \"surprising\" station-hour pair)? "
   ]
  },
  {
   "cell_type": "code",
   "execution_count": 23,
   "metadata": {
    "collapsed": false
   },
   "outputs": [
    {
     "name": "stdout",
     "output_type": "stream",
     "text": [
      "Let us define the hourly usage fraction of a station to be the fraction of all rides starting at that station that leave during a specific hour. A station has surprising usage patterns if it has an hourly usage fraction for an hour significantly different from the corresponding hourly usage fraction of the system as a whole. What is the largest ratio of station hourly usage fraction to system hourly usage fraction (hence corresponding to the most \"surprising\" station-hour pair)?\n",
      "2.11250603573e-05\n"
     ]
    }
   ],
   "source": [
    "question = ('Let us define the hourly usage fraction of a '\n",
    "            'station to be the fraction of all rides '\n",
    "            'starting at that station that leave during '\n",
    "            'a specific hour. A station has surprising usage '\n",
    "            'patterns if it has an hourly usage fraction for '\n",
    "            'an hour significantly different from the '\n",
    "            'corresponding hourly usage fraction of the '\n",
    "            'system as a whole. What is the largest ratio of '\n",
    "            'station hourly usage fraction to system hourly '\n",
    "            'usage fraction (hence corresponding to the most '\n",
    "            '\"surprising\" station-hour pair)?\\n')\n",
    "\n",
    "hour = df['starttime'].dt.hour\n",
    "\n",
    "group = df.groupby([df['start station id'],\n",
    "                    hour])\n",
    "\n",
    "total = df.groupby('start station id')['bikeid'].count()\n",
    "\n",
    "station_hourly = group['bikeid'].count() / total\n",
    "\n",
    "total_hourly = df.groupby(hour).count()['bikeid']\n",
    "\n",
    "def divide_total(df):\n",
    "    return df.divide(total_hourly, fill_value=0.0)\n",
    "\n",
    "top_group = station_hourly.groupby(level=['start station id'])\n",
    "station_system = top_group.apply(divide_total)\n",
    "\n",
    "print(question + str(station_system.max()))"
   ]
  },
  {
   "cell_type": "markdown",
   "metadata": {},
   "source": [
    "### There are two types of riders: \"Customers\" and \"Subscribers.\" Customers buy a short-time pass which allows 30-minute rides. Subscribers buy yearly passes that allow 45-minute rides. What fraction of rides exceed their corresponding time limit? "
   ]
  },
  {
   "cell_type": "code",
   "execution_count": 21,
   "metadata": {
    "collapsed": false
   },
   "outputs": [
    {
     "name": "stdout",
     "output_type": "stream",
     "text": [
      "There are two types of riders: \"Customers\" and \"Subscribers.\" Customers buy a short-time pass which allows 30-minute rides. Subscribers buy yearly passes that allow 45-minute rides. What fraction of rides exceed their corresponding time limit?\n",
      "0.0103153190312\n"
     ]
    }
   ],
   "source": [
    "question = ('There are two types of riders: \"Customers\" and '\n",
    "            '\"Subscribers.\" Customers buy a short-time pass '\n",
    "            'which allows 30-minute rides. Subscribers buy '\n",
    "            'yearly passes that allow 45-minute rides. What '\n",
    "            'fraction of rides exceed their corresponding '\n",
    "            'time limit?\\n')\n",
    "subscribers_over = ((df['usertype'] == 'Subscriber')\n",
    "                    & (df['tripduration'] > 45 * 60))\n",
    "customers_over = ((df['usertype'] == 'Customer')\n",
    "                    & (df['tripduration'] > 30 * 60))\n",
    "exceeded_frac = (customers_over | subscribers_over).mean()\n",
    "print(question + str(exceeded_frac))"
   ]
  },
  {
   "cell_type": "markdown",
   "metadata": {},
   "source": [
    "### Most of the time, a bike will begin a trip at the same station where its previous trip ended. Sometimes a bike will be moved by the program, either for maintenance or to rebalance the distribution of bikes. What is the average number of times a bike is moved during this period, as detected by seeing if it starts at a different station than where the previous ride ended? "
   ]
  },
  {
   "cell_type": "code",
   "execution_count": 22,
   "metadata": {
    "collapsed": false
   },
   "outputs": [
    {
     "data": {
      "text/plain": [
       "19.757123002084782"
      ]
     },
     "execution_count": 22,
     "metadata": {},
     "output_type": "execute_result"
    }
   ],
   "source": [
    "question = (\"Most of the time, a bike will begin a trip at \"\n",
    "            \"the same station where its previous trip ended. \"\n",
    "            \"Sometimes a bike will be moved by the program, \"\n",
    "            \"either for maintenance or to rebalance the \"\n",
    "            \"distribution of bikes. What is the average \"\n",
    "            \"number of times a bike is moved during this \"\n",
    "            \"period, as detected by seeing if it starts at a \"\n",
    "            \"different station than where the previous ride \"\n",
    "            \"ended?\\n\")\n",
    "group = df.groupby('bikeid')\n",
    "def times_moved(df):\n",
    "    end_stations = df['end station id'].values\n",
    "    rolled_stations = np.roll(end_stations, 1)\n",
    "    start_stations = df['start station id'].values\n",
    "    return (rolled_stations[1:] != start_stations[1:]).sum()\n",
    "mean_moved = group.apply(times_moved).mean()\n",
    "print(question + str(mean_moved))\n",
    "    "
   ]
  },
  {
   "cell_type": "code",
   "execution_count": null,
   "metadata": {
    "collapsed": true
   },
   "outputs": [],
   "source": []
  }
 ],
 "metadata": {
  "kernelspec": {
   "display_name": "Python 2",
   "language": "python",
   "name": "python2"
  },
  "language_info": {
   "codemirror_mode": {
    "name": "ipython",
    "version": 2
   },
   "file_extension": ".py",
   "mimetype": "text/x-python",
   "name": "python",
   "nbconvert_exporter": "python",
   "pygments_lexer": "ipython2",
   "version": "2.7.6"
  }
 },
 "nbformat": 4,
 "nbformat_minor": 1
}

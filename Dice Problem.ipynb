{
 "cells": [
  {
   "cell_type": "code",
   "execution_count": 1,
   "metadata": {
    "collapsed": true
   },
   "outputs": [],
   "source": [
    "from __future__ import division\n",
    "from itertools import product\n",
    "from primefac import primefac\n",
    "import numpy as np\n",
    "import pandas as pd"
   ]
  },
  {
   "cell_type": "code",
   "execution_count": 2,
   "metadata": {
    "collapsed": false
   },
   "outputs": [],
   "source": [
    "def all_rolls(n_dice, n_sides=6):\n",
    "    '''generates all possible rolls of n_dice, ignoring order.\n",
    "    Assumes sides are numbered 1 to n_sides'''\n",
    "    return list(product(range(1, n_sides + 1), repeat=n_dice))\n",
    "    \n",
    "    \n",
    "    "
   ]
  },
  {
   "cell_type": "code",
   "execution_count": 3,
   "metadata": {
    "collapsed": true
   },
   "outputs": [],
   "source": [
    "def gen_roll_sum_df(n_dice, n_sides=6):\n",
    "    rolls = all_rolls(n_dice, n_sides=n_sides)\n",
    "    roll_array = np.array(rolls)\n",
    "    roll_sum = roll_array.sum(axis=1)\n",
    "    roll_prod = roll_array.prod(axis=1)\n",
    "    return pd.DataFrame({'roll':rolls, 'roll_sum':roll_sum,\n",
    "                         'roll_prod':roll_prod})"
   ]
  },
  {
   "cell_type": "code",
   "execution_count": 4,
   "metadata": {
    "collapsed": false
   },
   "outputs": [],
   "source": [
    "n_dice_8 = gen_roll_sum_df(8)"
   ]
  },
  {
   "cell_type": "code",
   "execution_count": 15,
   "metadata": {
    "collapsed": false
   },
   "outputs": [
    {
     "name": "stdout",
     "output_type": "stream",
     "text": [
      "Mean product is: \n",
      "1859.9329541659\n"
     ]
    }
   ],
   "source": [
    "print('Mean product is: ')\n",
    "mean = n_dice_8[n_dice_8['roll_sum'] == 24]['roll_prod'].mean()\n",
    "print('{:5.10f}'.format(mean))\n"
   ]
  },
  {
   "cell_type": "code",
   "execution_count": 16,
   "metadata": {
    "collapsed": false
   },
   "outputs": [
    {
     "name": "stdout",
     "output_type": "stream",
     "text": [
      "Product Standard deviation is:\n",
      "855.0742120877\n"
     ]
    }
   ],
   "source": [
    "print('Product Standard deviation is:')\n",
    "std = n_dice_8[n_dice_8['roll_sum'] == 24]['roll_prod'].std()\n",
    "print('{:5.10f}'.format(std))"
   ]
  },
  {
   "cell_type": "code",
   "execution_count": null,
   "metadata": {
    "collapsed": true
   },
   "outputs": [],
   "source": []
  }
 ],
 "metadata": {
  "kernelspec": {
   "display_name": "Python 2",
   "language": "python",
   "name": "python2"
  },
  "language_info": {
   "codemirror_mode": {
    "name": "ipython",
    "version": 2
   },
   "file_extension": ".py",
   "mimetype": "text/x-python",
   "name": "python",
   "nbconvert_exporter": "python",
   "pygments_lexer": "ipython2",
   "version": "2.7.6"
  }
 },
 "nbformat": 4,
 "nbformat_minor": 1
}
